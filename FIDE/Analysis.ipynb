{
 "cells": [
  {
   "cell_type": "code",
   "execution_count": 21,
   "metadata": {},
   "outputs": [],
   "source": [
    "'''\n",
    "This script processes and consolidates a series of FIDE rating files from the years 1971 to 2023.\n",
    "These files contain the Standard FIDE ratings of all registered players for each year, recorded in January.\n",
    "\n",
    "The data comes from two sources:\n",
    "- Files from 2000 and earlier are provided by Mark Weeks       (https://www.mark-weeks.com/chess/ratings/)\n",
    "- Files after 2000 are obtained from the official FIDE website (https://ratings.fide.com/download.phtml)\n",
    "\n",
    "All the files from those sources have been converted into CSVs with the Player, Country, and Ratings fields extracted from their various schemas.\n",
    "\n",
    "Author:       James Parkington\n",
    "Created Date: 4/21/23\n",
    "'''\n",
    "\n",
    "import pandas as pd\n",
    "import glob   as g\n",
    "\n",
    "files = []\n",
    "for file in g.glob(\"./Data/CSVs/*.csv\"):\n",
    "    files.append(pd.read_csv(file).assign(Year = file[-8:-4]))\n",
    "\n",
    "fide_ratings = pd.concat(files)\n"
   ]
  },
  {
   "cell_type": "code",
   "execution_count": 22,
   "metadata": {},
   "outputs": [
    {
     "name": "stdout",
     "output_type": "stream",
     "text": [
      "                 Player Country  Rating  Year\n",
      "0              Aaron,M.     IND    2375  1990\n",
      "1     Abarca Aguirre,M.     CHI    2375  1990\n",
      "2            Abbas,B.H.     IRQ    2210  1990\n",
      "3          Abdennabi,I.     EGY    2370  1990\n",
      "4      Abdul Satar,M.A.     IRQ    2240  1990\n",
      "...                 ...     ...     ...   ...\n",
      "1645       Zuckerman,B.     USA    2450  1976\n",
      "1646         Zuidema,C.     NED    2445  1976\n",
      "1647      Zuniga Rivera     CHI    2285  1976\n",
      "1648        Zurowski,H.     USR    2245  1976\n",
      "1649              Zwaig     NOR    2475  1976\n",
      "\n",
      "[4319883 rows x 4 columns]\n"
     ]
    }
   ],
   "source": [
    "print(fide_ratings)"
   ]
  }
 ],
 "metadata": {
  "kernelspec": {
   "display_name": "Python 3",
   "language": "python",
   "name": "python3"
  },
  "language_info": {
   "codemirror_mode": {
    "name": "ipython",
    "version": 3
   },
   "file_extension": ".py",
   "mimetype": "text/x-python",
   "name": "python",
   "nbconvert_exporter": "python",
   "pygments_lexer": "ipython3",
   "version": "3.11.2"
  },
  "orig_nbformat": 4
 },
 "nbformat": 4,
 "nbformat_minor": 2
}
