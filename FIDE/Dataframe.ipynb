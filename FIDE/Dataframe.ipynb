{
 "cells": [
  {
   "cell_type": "code",
   "execution_count": 21,
   "metadata": {},
   "outputs": [],
   "source": [
    "'''\n",
    "This script processes and consolidates a series of FIDE rating files from the years 1971 to 2023.\n",
    "These files contain the Standard FIDE ratings of all registered players for each year, recorded in January.\n",
    "\n",
    "The data comes from two sources:\n",
    "- Files from 2000 and earlier are provided by Mark Weeks       (https://www.mark-weeks.com/chess/ratings/)\n",
    "- Files after 2000 are obtained from the official FIDE website (https://ratings.fide.com/download.phtml)\n",
    "\n",
    "All the files from those sources have been converted into CSVs with the Player, Country, and Ratings fields extracted from their various schemas.\n",
    "\n",
    "Author:       James Parkington\n",
    "Created Date: 4/21/23\n",
    "'''\n",
    "\n",
    "import pandas as pd\n",
    "import glob   as g\n",
    "\n",
    "files = []\n",
    "for file in g.glob(\"./Data/CSVs/*.csv\"):\n",
    "    files.append(pd.read_csv(file).assign(Year = file[-8:-4]))\n",
    "\n",
    "fide_ratings = pd.concat(files)"
   ]
  }
 ],
 "metadata": {
  "kernelspec": {
   "display_name": "Python 3",
   "language": "python",
   "name": "python3"
  },
  "language_info": {
   "codemirror_mode": {
    "name": "ipython",
    "version": 3
   },
   "file_extension": ".py",
   "mimetype": "text/x-python",
   "name": "python",
   "nbconvert_exporter": "python",
   "pygments_lexer": "ipython3",
   "version": "3.11.4"
  },
  "orig_nbformat": 4
 },
 "nbformat": 4,
 "nbformat_minor": 2
}
