{
 "cells": [
  {
   "attachments": {},
   "cell_type": "markdown",
   "metadata": {},
   "source": [
    "### How a Robot Kitten Changed Chess Forever\n",
    "*A study in ELO, how chess players understand it intrinsically, and how new bots keep pushing its limits.*\n",
    "\n",
    "**Next Milestone**: Project Overview on **Feb 15**"
   ]
  },
  {
   "attachments": {},
   "cell_type": "markdown",
   "metadata": {},
   "source": [
    "<span style = \"color:#0693e3\">**Topics to Pursue**</span>\n",
    "1. The History of the ELO Formula and How It's Calculation Has Changed Over Time\n",
    "2. The History of Its Usage in Chess\n",
    "    - What is a good ELO today?\n",
    "    - What was a good ELO when it was first introduced?\n",
    "    - In terms of a chess game, how is it calculated?\n",
    "3. How Bots Have Improved Over Time\n",
    "4. How ELO Is Estimated for the Top Bots\n",
    "5. What Did Mittens Do Differently?\n",
    "6. Cheaters: Did Hans Neimann Cheat? How Did He Get So Good So Fast?\n",
    "    - Can we express the speed of his progression toward GM relative to his peers in mathematical terms?"
   ]
  },
  {
   "attachments": {},
   "cell_type": "markdown",
   "metadata": {},
   "source": [
    "<span style = \"color:#0693e3\">**Academic Papers**</span>\n",
    "\n",
    "**(1978) \"The Rating of Chessplayers, Past and Present\" by Arpad Elo**\n",
    "- This is the foundational paper for the scoring algorithm that was later translated to other scoring-based systems in Go, player rankings, and potential political outcomes.\n",
    "- The ELO rating system is defined as a logistic function that maps the probability of winning a game between two players to their relative ratings. \n",
    "- The formula for his function involves logarithms and summation.\n",
    "\n",
    "The change in the ratings of the two players after the game is given by the formula: $ ΔR = K ⋅ (S - E)$\n",
    "\n",
    "$E$ is the expected result of the game, given by the formula: $\\displaystyle E = \\frac {1}{1 + 10^{\\left(\\frac{R_2 - R_1}{400}\\right)}}$\n",
    "  - $ΔR$ is the change in ratings\n",
    "  - $K$ is the constant\n",
    "  - $S$ is the actual result of the game (1 for a win, 0 for a loss, 0.5 for a draw)\n",
    "  - $E$ is the expected result of the game\n",
    "  - $R_1$ and $R_2$ are the ratings of player 1 and player 2, respectively.\n",
    "\n",
    "In this formula, the base-10 logarithm represents the odds of one player winning, given the difference in their ratings. The expected result $E$ is then used to calculate the change in ratings $ΔR$ using that same logistic function.\n",
    "\n",
    "So, the ELO rating system can be understood as a logistic function that maps the probability of winning a game to the relative ratings of the players, and that adjusts the ratings of the players accordingly, based on both the actual results of the game and the difference in their ratings. \n",
    "\n",
    "<br>\n",
    "\n",
    "**(2011) \"On the Theory of the Elo Rating System\" by Nathan L. Rothman**\n",
    "- Rothman outlines how the ELO rating system has been formalized using set theory and propositional logic. \n",
    "- The paper includes formulas that define the conditions under which a player's rating can change as a result of a game.\n",
    "\n",
    "<br>\n",
    "\n",
    "**(2013) \"An Improved Algorithm for the Elo Rating System\" by Bartlomiej Wyzlic**\n",
    "- Wyzlic proposes a change to the ELO rating system to include a weighted average of recent results in order to reduce the impact of randomness. \n",
    "- The paper includes formulas for this modified rating system that involve sequences and summation."
   ]
  }
 ],
 "metadata": {
  "kernelspec": {
   "display_name": "Python 3",
   "language": "python",
   "name": "python3"
  },
  "language_info": {
   "name": "python",
   "version": "3.10.9"
  },
  "orig_nbformat": 4,
  "vscode": {
   "interpreter": {
    "hash": "b0fa6594d8f4cbf19f97940f81e996739fb7646882a419484c72d19e05852a7e"
   }
  }
 },
 "nbformat": 4,
 "nbformat_minor": 2
}
