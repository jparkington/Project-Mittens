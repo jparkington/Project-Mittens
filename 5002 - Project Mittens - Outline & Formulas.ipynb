{
 "cells": [
  {
   "attachments": {},
   "cell_type": "markdown",
   "metadata": {},
   "source": [
    "### How a Robot Kitten Changed Chess Forever\n",
    "*A study in ELO, how chess players understand it intrinsically, and how new bots keep pushing its limits.*\n",
    "\n",
    "**Next Milestone**: Project Overview on **Feb 15**"
   ]
  },
  {
   "attachments": {},
   "cell_type": "markdown",
   "metadata": {},
   "source": [
    "<span style = \"color:#0693e3\">**Topics to Pursue**</span>\n",
    "\n",
    "**1. The History of the ELO Formula and How Its Calculation Has Changed Over Time**\n",
    "- *P1: 2.3 | The Working Formulae of the ELO System*\n",
    "- *P1: 2.6 | Tests of the Rating System*\n",
    "\n",
    "<br>\n",
    "\n",
    "**2. The History of Its Usage in Chess**\n",
    "- What is a good ELO today?\n",
    "- What was a good ELO when it was first introduced?\n",
    "  - *P1: 5.4 | The Crosstables of 120 Years*\n",
    "  - *P1: 5.5 | The 500 Best Five-Year Averages*\n",
    "- In terms of a chess game, how is it calculated?\n",
    "\n",
    "<br>\n",
    "\n",
    "**3. How Bots Have Improved Over Time**\n",
    "\n",
    "<br>\n",
    "\n",
    "**4. How ELO Is Estimated for the Top Bots**\n",
    "\n",
    "<br>\n",
    "\n",
    "**5. What Did Mittens Do Differently?**\n",
    "\n",
    "<br>\n",
    "\n",
    "**6. Cheaters: Did Hans Neimann Cheat? How Did He Get So Good So Fast?**\n",
    "    - Can we express the speed of his progression toward GM relative to his peers in mathematical terms?"
   ]
  },
  {
   "attachments": {},
   "cell_type": "markdown",
   "metadata": {},
   "source": [
    "<span style = \"color:#0693e3\">**Academic Resources**</span>\n",
    "\n",
    "**P1: (1978) \"The Rating of Chessplayers, Past and Present\" by Arpad Elo**\n",
    "- This is the foundational book for the scoring algorithm that was later translated to other scoring-based systems in Go, player rankings, and potential political outcomes.\n",
    "- The ELO rating system is defined as a logistic function that maps the probability of winning a game between two players to their relative ratings. \n",
    "- The formula for his function involves logarithms and summation.\n",
    "\n",
    "The change in the ratings of the two players after the game is given by the formula: $ ΔR = K ⋅ (S - E)$\n",
    "\n",
    "$E$ is the expected result of the game, given by the formula: $\\displaystyle E = \\frac {1}{1 + 10^{\\left(\\frac{R_2 - R_1}{400}\\right)}}$\n",
    "  - $ΔR$ is the change in ratings\n",
    "  - $K$ is the constant\n",
    "  - $S$ is the actual result of the game (1 for a win, 0 for a loss, 0.5 for a draw)\n",
    "  - $E$ is the expected result of the game\n",
    "  - $R_1$ and $R_2$ are the ratings of player 1 and player 2, respectively.\n",
    "\n",
    "In this formula, the base-10 logarithm represents the odds of one player winning, given the difference in their ratings. The expected result $E$ is then used to calculate the change in ratings $ΔR$ using that same logistic function.\n",
    "\n",
    "So, the ELO rating system can be understood as a logistic function that maps the probability of winning a game to the relative ratings of the players, and that adjusts the ratings of the players accordingly, based on both the actual results of the game and the difference in their ratings. \n",
    "\n",
    "**P2: (2005) \"A Psychometric Analysis of Chess Expertise\" by Han L. J. Van Der Maas, Eric-Jan Wagenmakers** \n",
    "- [JSTOR](https://www.jstor.org/stable/30039042)\n",
    "- This study introduces the Amsterdam Chess Test (ACT) and explains the math behind the 5 tests within\n",
    "- Their results show that the ACT has high predictive validity, suggesting that strong players have an inherent human understanding of chess complexity and when it's created by other humans\n",
    "- ELO is their foundational measurement, which they use as a dependency for much of their reporting"
   ]
  },
  {
   "attachments": {},
   "cell_type": "markdown",
   "metadata": {},
   "source": [
    "<span style = \"color:#0693e3\">**Quantifying Hans Neimann's Rise to GM**</span>\n",
    "\n",
    "**Rate of Change**\n",
    "\n",
    "One way to represent the speed of a player like Neimann's progression in mathematical terms is by calculating the rate of change of their ELO rating over time. This can be done by fitting a mathematical function to the player's ELO ratings and finding its **derivative**, which represents the **rate of change** of the function at any given time.\n",
    "\n",
    "Let $ELO(t)$ be the ELO rating of a player at time $t$. The rate of change of the player's ELO rating with respect to time $t$ can be represented as: \n",
    "\n",
    "$\\displaystyle \\frac{dELO}{dt} = \\frac{d}{dt}ELO(t) $\n",
    "\n",
    "This would offer a measure of how quickly the player's ELO rating was changing at that point in time, which can be used to compare the player's progress to others.\n",
    "\n",
    "<br>\n",
    "\n",
    "**Magnitude**\n",
    "\n",
    "The magnitude of the rate of change can be calculated as the absolute value of that same function:\n",
    "\n",
    "$ \\displaystyle |\\frac{dELO}{dt}| $\n",
    "\n",
    "This gives us the absolute rate at which the player's ELO rating is changing. If the player's ELO rating is increasing rapidly, $|\\frac{dELO}{dt}|$ will be large. If the player's ELO rating is changing slowly, it will be small.\n",
    "\n",
    "<br>\n",
    "\n",
    "**Acceleraation**\n",
    "\n",
    "To measure acceleration, we can take the derivative of the rate of change:\n",
    "\n",
    "$ \\displaystyle \\frac{d^2ELO}{dt^2} = \\frac{d}{dt}\\left(\\frac{dELO}{dt}\\right) $\n",
    "\n",
    "This formula represents the **second derivative** of the function $ELO(t)$ with respect to time $t$.  If d^2ELO/dt^2 is positive, the player's ELO rating is increasing at an increasing rate. If $ \\displaystyle \\frac{d^2ELO}{dt^2} $ is negative, the player's ELO rating is increasing at a decreasing rate (or more slowly over time). We could also calculate a magnitude of this second derivative function to see how quickly a rating is speeding up or slowing down, compared to others.\n",
    "\n",
    "In the case of Hans Niemann, calculating the rate of change of his ELO ratings over time would give us a quantitative measure of the speed of his progression compared to other players. This could provide a useful mathematical representation of the remarkable nature of his rise to Grandmaster status at such a young age."
   ]
  }
 ],
 "metadata": {
  "kernelspec": {
   "display_name": "Python 3",
   "language": "python",
   "name": "python3"
  },
  "language_info": {
   "name": "python",
   "version": "3.10.9"
  },
  "orig_nbformat": 4,
  "vscode": {
   "interpreter": {
    "hash": "b0fa6594d8f4cbf19f97940f81e996739fb7646882a419484c72d19e05852a7e"
   }
  }
 },
 "nbformat": 4,
 "nbformat_minor": 2
}
